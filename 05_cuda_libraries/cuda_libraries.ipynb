{
 "cells": [
  {
   "cell_type": "markdown",
   "metadata": {},
   "source": [
    "# **CUDA Libraries**"
   ]
  },
  {
   "cell_type": "code",
   "execution_count": null,
   "metadata": {},
   "outputs": [],
   "source": [
    "import os\n",
    "os.environ[\"PATH\"] += \":/usr/local/cuda-12.6/bin\"\n",
    "\n",
    "# Verify nvcc is now accessible\n",
    "!nvcc --version"
   ]
  },
  {
   "cell_type": "markdown",
   "metadata": {},
   "source": [
    "## **1. cuBLAS - Basic Linear Algegra Subprograms Library**"
   ]
  },
  {
   "cell_type": "markdown",
   "metadata": {},
   "source": [
    "### **a. Matrix-Vector Multiplication**"
   ]
  },
  {
   "cell_type": "markdown",
   "metadata": {},
   "source": [
    "```cpp\n",
    "cublasSgemv(\n",
    "    handle,           // cuBLAS library context\n",
    "    CUBLAS_OP_N,     // Operation: N=no transpose, T=transpose, C=conjugate transpose\n",
    "    M,               // Number of rows in matrix A\n",
    "    N,               // Number of columns in matrix A\n",
    "    &alpha,          // Scalar multiplier for A*x\n",
    "    d_A,             // Device pointer to matrix A\n",
    "    M,               // Leading dimension of A (row stride)\n",
    "    d_x,             // Device pointer to vector x\n",
    "    1,               // Stride between elements in x\n",
    "    &beta,           // Scalar multiplier for y\n",
    "    d_y,             // Device pointer to vector y\n",
    "    1                // Stride between elements in y\n",
    ");\n",
    "```"
   ]
  },
  {
   "cell_type": "markdown",
   "metadata": {},
   "source": [
    "[./cuBLAS/matrix_vector_mul.cu](./cuBLAS/matrix_vector_mul.cu)"
   ]
  },
  {
   "cell_type": "code",
   "execution_count": null,
   "metadata": {},
   "outputs": [],
   "source": [
    "!nvcc -g -G -lcublas -o ./cuBLAS/matrix_vector_mul ./cuBLAS/matrix_vector_mul.cu\n",
    "!./cuBLAS/matrix_vector_mul"
   ]
  },
  {
   "cell_type": "markdown",
   "metadata": {},
   "source": [
    "### **b. Matrix-Matrix Multiplication**"
   ]
  },
  {
   "cell_type": "markdown",
   "metadata": {},
   "source": [
    "```cpp\n",
    "cublasSgemm(\n",
    "   handle,           // cuBLAS library context\n",
    "   CUBLAS_OP_N,     // Operation for matrix A: N=no transpose, T=transpose, C=conjugate transpose\n",
    "   CUBLAS_OP_N,     // Operation for matrix B\n",
    "   M,               // Rows of output matrix C and op(A)\n",
    "   N,               // Columns of output matrix C and op(B)\n",
    "   K,               // Columns of op(A) and rows of op(B)\n",
    "   &alpha,          // Scalar multiplier for A*B\n",
    "   d_A,             // Device pointer to matrix A\n",
    "   M,               // Leading dimension of A (row stride)\n",
    "   d_B,             // Device pointer to matrix B\n",
    "   K,               // Leading dimension of B\n",
    "   &beta,           // Scalar multiplier for C\n",
    "   d_C,             // Device pointer to matrix C\n",
    "   M                // Leading dimension of C\n",
    ");\n",
    "```"
   ]
  },
  {
   "cell_type": "markdown",
   "metadata": {},
   "source": [
    "[./cuBLAS/matrix_matirx_mul.cu](./cuBLAS/matrix_matrix_mul.cu)"
   ]
  },
  {
   "cell_type": "code",
   "execution_count": null,
   "metadata": {},
   "outputs": [],
   "source": [
    "!nvcc -g -G -lcublas -o ./cuBLAS/matrix_matrix_mul ./cuBLAS/matrix_matrix_mul.cu\n",
    "!./cuBLAS/matrix_matrix_mul"
   ]
  },
  {
   "cell_type": "markdown",
   "metadata": {},
   "source": [
    "### **c. Batched Matrix Multiplication**"
   ]
  },
  {
   "cell_type": "markdown",
   "metadata": {},
   "source": [
    "```cpp\n",
    "cublasSgemmBatched(\n",
    "   handle,           // cuBLAS library context\n",
    "   CUBLAS_OP_N,     // Operation for matrices A: N=no transpose, T=transpose\n",
    "   CUBLAS_OP_N,     // Operation for matrices B\n",
    "   M,               // Rows of output matrices C and op(A)\n",
    "   N,               // Columns of output matrices C and op(B)\n",
    "   K,               // Columns of op(A) and rows of op(B)\n",
    "   &alpha,          // Scalar multiplier for A*B\n",
    "   d_Aarray,        // Array of pointers to device matrices A\n",
    "   M,               // Leading dimension of A matrices\n",
    "   d_Barray,        // Array of pointers to device matrices B\n",
    "   K,               // Leading dimension of B matrices\n",
    "   &beta,           // Scalar multiplier for C\n",
    "   d_Carray,        // Array of pointers to device matrices C\n",
    "   M,               // Leading dimension of C matrices\n",
    "   BATCH            // Number of matrices in batch\n",
    ");\n",
    "```"
   ]
  },
  {
   "cell_type": "markdown",
   "metadata": {},
   "source": [
    "[./cuBLAS/matrix_batched_mul.cu](./cuBLAS/matrix_batched_mul.cu)"
   ]
  },
  {
   "cell_type": "code",
   "execution_count": null,
   "metadata": {},
   "outputs": [],
   "source": [
    "!nvcc -g -G -lcublas -o ./cuBLAS/matrix_batched_mul ./cuBLAS/matrix_batched_mul.cu\n",
    "!./cuBLAS/matrix_batched_mul"
   ]
  },
  {
   "cell_type": "code",
   "execution_count": null,
   "metadata": {},
   "outputs": [],
   "source": [
    "!make SRC=./cuBLAS/matrix_vector_mul.cu clean\n",
    "!make SRC=./cuBLAS/matrix_matrix_mul.cu clean\n",
    "!make SRC=./cuBLAS/matrix_batched_mul.cu clean"
   ]
  },
  {
   "cell_type": "markdown",
   "metadata": {},
   "source": [
    "## **2. cuDNN - Deep Neural Networks Library**"
   ]
  },
  {
   "cell_type": "markdown",
   "metadata": {},
   "source": [
    "### **a. Convolution Layer**"
   ]
  },
  {
   "cell_type": "markdown",
   "metadata": {},
   "source": [
    "```cpp\n",
    "cudnnConvolutionForward(\n",
    "    cudnn,                 // cuDNN handle\n",
    "    &alpha,                // Scaling factor for input\n",
    "    input_descriptor,      // Input tensor descriptor\n",
    "    d_input,              // Input data pointer\n",
    "    kernel_descriptor,     // Filter descriptor\n",
    "    d_kernel,             // Filter data pointer\n",
    "    convolution_descriptor, // Convolution descriptor\n",
    "    algo_perf[0].algo,    // Convolution algorithm\n",
    "    workspace,            // Workspace memory pointer\n",
    "    workspace_size,       // Workspace size in bytes\n",
    "    &beta,                // Scaling factor for output\n",
    "    output_descriptor,     // Output tensor descriptor\n",
    "    d_output              // Output data pointer\n",
    ");\n",
    "```"
   ]
  },
  {
   "cell_type": "markdown",
   "metadata": {},
   "source": [
    "[./cuDNN/convolution_layer.cu](./cuDNN/convolution_layer.cu)"
   ]
  },
  {
   "cell_type": "code",
   "execution_count": null,
   "metadata": {},
   "outputs": [],
   "source": [
    "!nvcc -g -G -lcudnn -lcuda -lcudart -o ./cuDNN/convolution_layer ./cuDNN/convolution_layer.cu\n",
    "!./cuDNN/convolution_layer"
   ]
  },
  {
   "cell_type": "markdown",
   "metadata": {},
   "source": [
    "### **b. ReLU Activation Layer**"
   ]
  },
  {
   "cell_type": "markdown",
   "metadata": {},
   "source": [
    "```cpp\n",
    "cudnnActivationBackward(\n",
    "    cudnn,\n",
    "    activation_descriptor,    // Activation function parameters\n",
    "    &alpha,                  // Input scaling factor\n",
    "    tensor_descriptor,       // Output tensor descriptor (forward pass)\n",
    "    d_output,               // Output from forward pass\n",
    "    tensor_descriptor,       // Gradient tensor descriptor\n",
    "    d_dy,                   // Incoming gradient\n",
    "    tensor_descriptor,       // Input tensor descriptor (forward pass)\n",
    "    d_input,                // Input from forward pass\n",
    "    &beta,                  // Output scaling factor\n",
    "    tensor_descriptor,       // Output gradient tensor descriptor\n",
    "    d_dx                    // Output gradient\n",
    ");\n",
    "```"
   ]
  },
  {
   "cell_type": "markdown",
   "metadata": {},
   "source": [
    "[./cuDNN/relu_activation.cu](./cuDNN/relu_activation.cu)"
   ]
  },
  {
   "cell_type": "code",
   "execution_count": null,
   "metadata": {},
   "outputs": [],
   "source": [
    "!nvcc -g -G -lcudnn -o ./cuDNN/relu_activation ./cuDNN/relu_activation.cu\n",
    "!./cuDNN/relu_activation"
   ]
  },
  {
   "cell_type": "code",
   "execution_count": null,
   "metadata": {},
   "outputs": [],
   "source": [
    "!make SRC=./cuDNN/convolution_layer.cu clean\n",
    "!make SRC=./cuDNN/relu_activation.cu clean"
   ]
  },
  {
   "cell_type": "markdown",
   "metadata": {},
   "source": [
    "## **3. cuFFT - Fast Fourier Transform Library**"
   ]
  },
  {
   "cell_type": "markdown",
   "metadata": {},
   "source": [
    "### **b. 1D FFT - Real to Complex**"
   ]
  },
  {
   "cell_type": "markdown",
   "metadata": {},
   "source": [
    "```cpp\n",
    "cufftExecR2C(\n",
    "    plan,      // FFT plan handle\n",
    "    d_input,   // Input array (real)\n",
    "    d_output   // Output array (complex)\n",
    ");\n",
    "```"
   ]
  },
  {
   "cell_type": "markdown",
   "metadata": {},
   "source": [
    "[./cuFFT/fft_1d_r2c.cu](./cuFFT/fft_1d_r2c_.cu)"
   ]
  },
  {
   "cell_type": "code",
   "execution_count": null,
   "metadata": {},
   "outputs": [],
   "source": [
    "!nvcc -g -G -lcufft -o ./cuFFT/fft_1d_r2c ./cuFFT/fft_1d_r2c.cu\n",
    "!./cuFFT/fft_1d_r2c"
   ]
  },
  {
   "cell_type": "markdown",
   "metadata": {},
   "source": [
    "### **a. 1D FFT - Complex to Complex**"
   ]
  },
  {
   "cell_type": "markdown",
   "metadata": {},
   "source": [
    "```cpp\n",
    "cufftExecC2C(\n",
    "    plan,           // FFT plan handle\n",
    "    d_input,        // Input array (complex)\n",
    "    d_output,       // Output array (complex)\n",
    "    CUFFT_FORWARD   // Transform direction (CUFFT_FORWARD or CUFFT_INVERSE)\n",
    ");\n",
    "```"
   ]
  },
  {
   "cell_type": "markdown",
   "metadata": {},
   "source": [
    "[./cuFFT/fft_1d_c2c.cu](./cuFFT/fft_1d_c2c_.cu)"
   ]
  },
  {
   "cell_type": "code",
   "execution_count": null,
   "metadata": {},
   "outputs": [],
   "source": [
    "!nvcc -g -G -lcufft -o ./cuFFT/fft_1d_c2c ./cuFFT/fft_1d_c2c.cu\n",
    "!./cuFFT/fft_1d_c2c"
   ]
  },
  {
   "cell_type": "code",
   "execution_count": null,
   "metadata": {},
   "outputs": [],
   "source": [
    "!make SRC=./cuFFT/fft_1d_r2c.cu clean\n",
    "!make SRC=./cuFFT/fft_1d_c2c.cu clean"
   ]
  },
  {
   "cell_type": "markdown",
   "metadata": {},
   "source": [
    "## **4. Thrust - Library to perform vector tasks**"
   ]
  },
  {
   "cell_type": "markdown",
   "metadata": {},
   "source": [
    "### **a. Vector Transform**"
   ]
  },
  {
   "cell_type": "markdown",
   "metadata": {},
   "source": [
    "```cpp\n",
    "thrust::transform(\n",
    "    d_vec.begin(),     // Input iterator - start of input range\n",
    "    d_vec.end(),       // Input iterator - end of input range\n",
    "    d_vec.begin(),     // Output iterator - where to write results\n",
    "    square()           // Function object instance to apply to each element\n",
    ");\n",
    "```"
   ]
  },
  {
   "cell_type": "markdown",
   "metadata": {},
   "source": [
    "[./thrust/vector_transform.cu](./thrust/vector_transform.cu)"
   ]
  },
  {
   "cell_type": "code",
   "execution_count": null,
   "metadata": {},
   "outputs": [],
   "source": [
    "!nvcc -g -G -o ./thrust/vector_transform ./thrust/vector_transform.cu\n",
    "!./thrust/vector_transform"
   ]
  },
  {
   "cell_type": "markdown",
   "metadata": {},
   "source": [
    "### **b. Vector Sort**"
   ]
  },
  {
   "cell_type": "markdown",
   "metadata": {},
   "source": [
    "```cpp\n",
    "thrust::sort(\n",
    "    d_vec.begin(),     // Start of device vector\n",
    "    d_vec.end()        // End of device vector\n",
    ");\n",
    "```"
   ]
  },
  {
   "cell_type": "markdown",
   "metadata": {},
   "source": [
    "[./thrust/vector_sort.cu](./thrust/vector_sort.cu)"
   ]
  },
  {
   "cell_type": "code",
   "execution_count": null,
   "metadata": {},
   "outputs": [],
   "source": [
    "!nvcc -g -G -o ./thrust/vector_sort ./thrust/vector_sort.cu\n",
    "!./thrust/vector_sort"
   ]
  },
  {
   "cell_type": "markdown",
   "metadata": {},
   "source": [
    "### **c. Vector Reduction Sum**"
   ]
  },
  {
   "cell_type": "markdown",
   "metadata": {},
   "source": [
    "```cpp\n",
    "int sum = thrust::reduce(\n",
    "    d_vec.begin(),         // Start of input range\n",
    "    d_vec.end(),          // End of input range\n",
    "    0,                    // Initial value for reduction\n",
    "    thrust::plus<int>()   // Binary operation for reduction\n",
    ");\n",
    "```"
   ]
  },
  {
   "cell_type": "markdown",
   "metadata": {},
   "source": [
    "[./thrust/vector_reduction_sum.cu](./thrust/vector_reduction_sum.cu)"
   ]
  },
  {
   "cell_type": "code",
   "execution_count": null,
   "metadata": {},
   "outputs": [],
   "source": [
    "!nvcc -g -G -o ./thrust/vector_reduction_sum ./thrust/vector_reduction_sum.cu\n",
    "!./thrust/vector_reduction_sum"
   ]
  },
  {
   "cell_type": "markdown",
   "metadata": {},
   "source": [
    "### **d. Vector Prefix Scan (Inclusive Sum)**"
   ]
  },
  {
   "cell_type": "markdown",
   "metadata": {},
   "source": [
    "```cpp\n",
    "thrust::inclusive_scan(\n",
    "    d_vec.begin(),     // Input start\n",
    "    d_vec.end(),       // Input end\n",
    "    d_vec.begin()      // Output start (in-place)\n",
    ");\n",
    "```"
   ]
  },
  {
   "cell_type": "markdown",
   "metadata": {},
   "source": [
    "[./thrust/vector_inclusive_scan_prefix_sum.cu](./thrust/vector_inclusive_scan_prefix_sum.cu)"
   ]
  },
  {
   "cell_type": "code",
   "execution_count": null,
   "metadata": {},
   "outputs": [],
   "source": [
    "!nvcc -g -G -o ./thrust/vector_inclusive_scan_prefix_sum ./thrust/vector_inclusive_scan_prefix_sum.cu\n",
    "!./thrust/vector_inclusive_scan_prefix_sum"
   ]
  },
  {
   "cell_type": "markdown",
   "metadata": {},
   "source": [
    "### **e. Vector Conditional Copy**"
   ]
  },
  {
   "cell_type": "markdown",
   "metadata": {},
   "source": [
    "```cpp\n",
    "auto end = thrust::copy_if(\n",
    "    d_vec.begin(),         // Input start\n",
    "    d_vec.end(),          // Input end\n",
    "    d_result.begin(),     // Output start\n",
    "    is_even()             // Predicate functor\n",
    ");\n",
    "```"
   ]
  },
  {
   "cell_type": "markdown",
   "metadata": {},
   "source": [
    "[./thrust/vector_conditional_copy.cu](./thrust/vector_conditional_copy.cu)"
   ]
  },
  {
   "cell_type": "code",
   "execution_count": null,
   "metadata": {},
   "outputs": [],
   "source": [
    "!nvcc -g -G -o ./thrust/vector_conditional_copy ./thrust/vector_conditional_copy.cu\n",
    "!./thrust/vector_conditional_copy"
   ]
  },
  {
   "cell_type": "code",
   "execution_count": null,
   "metadata": {},
   "outputs": [],
   "source": [
    "!make SRC=./thrust/vector_transform.cu clean\n",
    "!make SRC=./thrust/vector_sort.cu clean\n",
    "!make SRC=./thrust/vector_reduction_sum.cu clean\n",
    "!make SRC=./thrust/vector_inclusive_scan_prefix_sum.cu clean\n",
    "!make SRC=./thrust/vector_conditional_copy.cu clean"
   ]
  }
 ],
 "metadata": {
  "kernelspec": {
   "display_name": "Python 3",
   "language": "python",
   "name": "python3"
  },
  "language_info": {
   "codemirror_mode": {
    "name": "ipython",
    "version": 3
   },
   "file_extension": ".py",
   "mimetype": "text/x-python",
   "name": "python",
   "nbconvert_exporter": "python",
   "pygments_lexer": "ipython3",
   "version": "3.12.3"
  }
 },
 "nbformat": 4,
 "nbformat_minor": 2
}
