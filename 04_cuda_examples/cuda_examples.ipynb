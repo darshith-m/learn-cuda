{
 "cells": [
  {
   "cell_type": "markdown",
   "metadata": {},
   "source": [
    "# **CUDA Examples**"
   ]
  },
  {
   "cell_type": "code",
   "execution_count": 1,
   "metadata": {},
   "outputs": [
    {
     "name": "stdout",
     "output_type": "stream",
     "text": [
      "nvcc: NVIDIA (R) Cuda compiler driver\n",
      "Copyright (c) 2005-2024 NVIDIA Corporation\n",
      "Built on Tue_Oct_29_23:50:19_PDT_2024\n",
      "Cuda compilation tools, release 12.6, V12.6.85\n",
      "Build cuda_12.6.r12.6/compiler.35059454_0\n"
     ]
    }
   ],
   "source": [
    "import os\n",
    "os.environ[\"PATH\"] += \":/usr/local/cuda/bin\"\n",
    "\n",
    "# Verify nvcc is now accessible\n",
    "!nvcc --version"
   ]
  },
  {
   "cell_type": "markdown",
   "metadata": {},
   "source": [
    "## **1. Matrix**"
   ]
  },
  {
   "cell_type": "markdown",
   "metadata": {},
   "source": [
    "### **a. Matrix Transpose**"
   ]
  },
  {
   "cell_type": "markdown",
   "metadata": {},
   "source": [
    "Matrix transposition is the process of swapping the rows and columns of a matrix. For a given matrix A, its transpose A<sup>T</sup> is formed by converting the element at position (i,j)(i,j) in A to position (j,i)(j,i) in A<sup>T</sup>."
   ]
  },
  {
   "cell_type": "code",
   "execution_count": 2,
   "metadata": {},
   "outputs": [
    {
     "name": "stdout",
     "output_type": "stream",
     "text": [
      "nvcc -o ./matrix/matrix_transpose ./matrix/matrix_transpose.cu\n",
      "././matrix/matrix_transpose\n",
      "Matrix transposition verified successfully!\n",
      "GPU execution time: 4.8152 ms\n",
      "CPU execution time: 137.621 ms\n",
      "Speedup (CPU vs GPU): 28.5806x\n"
     ]
    }
   ],
   "source": [
    "!make SRC=./matrix/matrix_transpose.cu run"
   ]
  },
  {
   "cell_type": "markdown",
   "metadata": {},
   "source": [
    "### **b. Matrix Addition**"
   ]
  },
  {
   "cell_type": "markdown",
   "metadata": {},
   "source": [
    "Matrix addition is an element-wise operation where corresponding elements from two matrices of the same dimensions are added together. The resulting matrix has the same dimensions as the input matrices, with each element being the sum of the corresponding elements from the input matrices. In CUDA, this operation can be parallelized by assigning each element addition to a separate thread, making it highly efficient compared to sequential CPU processing."
   ]
  },
  {
   "cell_type": "code",
   "execution_count": 3,
   "metadata": {},
   "outputs": [
    {
     "name": "stdout",
     "output_type": "stream",
     "text": [
      "nvcc -o ./matrix/matrix_addition ./matrix/matrix_addition.cu\n",
      "././matrix/matrix_addition\n",
      "Matrix Addition Results:\n",
      "CPU Time: 64.58 milliseconds\n",
      "GPU Time: 7.52 milliseconds\n",
      "Speedup: 8.59x\n",
      "Results match: Yes\n"
     ]
    }
   ],
   "source": [
    "!make SRC=./matrix/matrix_addition.cu run"
   ]
  },
  {
   "cell_type": "markdown",
   "metadata": {},
   "source": [
    "### **c. Matrix Multiplication**"
   ]
  },
  {
   "cell_type": "markdown",
   "metadata": {},
   "source": [
    "Matrix multiplication is an operation that combines two matrices to produce a third matrix. Given matrices \n",
    "A and B, the element C[i,j] in the result matrix C is calculated as the dot product of the i-th row of A and the \n",
    "j-th column of B. This operation is widely used in fields like machine learning, computer graphics, and scientific computing."
   ]
  },
  {
   "cell_type": "code",
   "execution_count": 4,
   "metadata": {},
   "outputs": [
    {
     "name": "stdout",
     "output_type": "stream",
     "text": [
      "nvcc -o ./matrix/matrix_multiplication ./matrix/matrix_multiplication.cu\n",
      "././matrix/matrix_multiplication\n",
      "Matrix Multiplication Results (1024x1024):\n",
      "CPU Time: 7396.46 milliseconds\n",
      "GPU Time: 5.75 milliseconds\n",
      "Speedup: 1287.31x\n",
      "Max Error: 9.155273e-05\n"
     ]
    }
   ],
   "source": [
    "!make SRC=./matrix/matrix_multiplication.cu run"
   ]
  },
  {
   "cell_type": "code",
   "execution_count": 5,
   "metadata": {},
   "outputs": [
    {
     "name": "stdout",
     "output_type": "stream",
     "text": [
      "rm -f ./matrix/matrix_transpose\n",
      "rm -f ./matrix/matrix_addition\n",
      "rm -f ./matrix/matrix_multiplication\n"
     ]
    }
   ],
   "source": [
    "!make SRC=./matrix/matrix_transpose.cu clean\n",
    "!make SRC=./matrix/matrix_addition.cu clean\n",
    "!make SRC=./matrix/matrix_multiplication.cu clean"
   ]
  },
  {
   "cell_type": "markdown",
   "metadata": {},
   "source": [
    "## **2. Reduction**"
   ]
  },
  {
   "cell_type": "markdown",
   "metadata": {},
   "source": [
    "### **a. Maximum/Minimum**"
   ]
  },
  {
   "cell_type": "markdown",
   "metadata": {},
   "source": [
    "Finding maximum value within an array."
   ]
  },
  {
   "cell_type": "code",
   "execution_count": 6,
   "metadata": {},
   "outputs": [
    {
     "name": "stdout",
     "output_type": "stream",
     "text": [
      "././reduction/max\n",
      "Maximum value (CPU): 999\n",
      "CPU Time: 0.00373999 seconds\n",
      "Maximum value (CUDA): 999\n",
      "GPU Time: 0.000668777 seconds\n",
      "Speedup (CPU vs GPU): 5.59228x\n"
     ]
    }
   ],
   "source": [
    "!make SRC=./reduction/max.cu run"
   ]
  },
  {
   "cell_type": "markdown",
   "metadata": {},
   "source": [
    "*Has been implemented only for integers because atmomicMax only works on integers. For floating point numbers, there's a different technique using atomicCAS to find the maximum value.*"
   ]
  },
  {
   "cell_type": "markdown",
   "metadata": {},
   "source": [
    "### **b. Sum**"
   ]
  },
  {
   "cell_type": "markdown",
   "metadata": {},
   "source": [
    "Finding sum of all the elements in an array."
   ]
  },
  {
   "cell_type": "code",
   "execution_count": 7,
   "metadata": {},
   "outputs": [
    {
     "name": "stdout",
     "output_type": "stream",
     "text": [
      "././reduction/sum\n",
      "Sum (CPU): 5.2379e+08\n",
      "CPU Time: 0.00401969 seconds\n",
      "Sum (CUDA): 5.23806e+08\n",
      "GPU Time: 0.000582532 seconds\n",
      "Speedup (CPU vs GPU): 6.90037x\n"
     ]
    }
   ],
   "source": [
    "!make SRC=./reduction/sum.cu run"
   ]
  },
  {
   "cell_type": "code",
   "execution_count": 8,
   "metadata": {},
   "outputs": [
    {
     "name": "stdout",
     "output_type": "stream",
     "text": [
      "rm -f ./reduction/max\n",
      "rm -f ./reduction/sum\n"
     ]
    }
   ],
   "source": [
    "!make SRC=./reduction/max.cu clean\n",
    "!make SRC=./reduction/sum.cu clean"
   ]
  },
  {
   "cell_type": "markdown",
   "metadata": {},
   "source": [
    "## **3. Parallel Scan**"
   ]
  },
  {
   "cell_type": "markdown",
   "metadata": {},
   "source": [
    "### **a. Parallel Prefix Sum (Hillis-Steele Inclusive Scan)**"
   ]
  },
  {
   "cell_type": "markdown",
   "metadata": {},
   "source": [
    "<div style=\"text-align: center;\">\n",
    "  <img src=\"./parallel_scan/hillis_steele.png\" alt=\"Hillis Steele\" width=\"400\">\n",
    "</div>"
   ]
  },
  {
   "cell_type": "code",
   "execution_count": 9,
   "metadata": {},
   "outputs": [
    {
     "name": "stdout",
     "output_type": "stream",
     "text": [
      "nvcc -o ./parallel_scan/hillis_steele_prefix_sum ./parallel_scan/hillis_steele_prefix_sum.cu\n",
      "././parallel_scan/hillis_steele_prefix_sum\n",
      "CPU Time: 8.267e-06 seconds\n",
      "Results match!\n",
      "GPU Time: 0.000246784 seconds\n",
      "Speedup (CPU / GPU): 0.0334989x\n"
     ]
    }
   ],
   "source": [
    "!make SRC=./parallel_scan/hillis_steele_prefix_sum.cu run"
   ]
  },
  {
   "cell_type": "markdown",
   "metadata": {},
   "source": [
    "*For small arrays of size 1024 CPU works faster. For bigger arrays beyond the size of 1024, prefix sum isn;t working because prefix sum isn't happening across blocks in this code. It is happening only within the block.*"
   ]
  },
  {
   "cell_type": "markdown",
   "metadata": {},
   "source": [
    "### **b. Blelloch Scan Prefix Sum**"
   ]
  },
  {
   "cell_type": "markdown",
   "metadata": {},
   "source": [
    "<div style=\"text-align: center;\">\n",
    "  <img src=\"./parallel_scan/blelloch_scan_reduce.png\" alt=\"Blelloch Scan Reduce\" width=\"400\">\n",
    "</div>"
   ]
  },
  {
   "cell_type": "markdown",
   "metadata": {},
   "source": [
    "<div style=\"text-align: center;\">\n",
    "  <img src=\"./parallel_scan/blelloch_scan_down_sweep.png\" alt=\"Blelloch Scan Down Sweep\" width=\"400\">\n",
    "</div>"
   ]
  },
  {
   "cell_type": "code",
   "execution_count": 10,
   "metadata": {},
   "outputs": [
    {
     "name": "stdout",
     "output_type": "stream",
     "text": [
      "nvcc -o ./parallel_scan/blelloch_prefix_sum ./parallel_scan/blelloch_prefix_sum.cu\n",
      "././parallel_scan/blelloch_prefix_sum\n",
      "CPU time taken: 1.0785e-05 seconds\n",
      "0 1 2 3 4 5 6 7 8 9 ...\n",
      "GPU time taken: 0.000541696 seconds\n",
      "0 1 2 3 4 5 6 7 8 9 ...\n",
      "Speedup: 0.0199097x\n"
     ]
    }
   ],
   "source": [
    "!make SRC=./parallel_scan/blelloch_prefix_sum.cu run"
   ]
  },
  {
   "cell_type": "markdown",
   "metadata": {},
   "source": [
    "*For small arrays of size 1024 CPU works faster. For bigger arrays beyond the size of 1024, prefix sum isn;t working because prefix sum isn't happening across blocks in this code. It is happening only within the block.*"
   ]
  },
  {
   "cell_type": "code",
   "execution_count": 11,
   "metadata": {},
   "outputs": [
    {
     "name": "stdout",
     "output_type": "stream",
     "text": [
      "rm -f ./parallel_scan/hillis_steele_prefix_sum\n",
      "rm -f ./parallel_scan/blelloch_prefix_sum\n"
     ]
    }
   ],
   "source": [
    "!make SRC=./parallel_scan/hillis_steele_prefix_sum.cu clean\n",
    "!make SRC=./parallel_scan/blelloch_prefix_sum.cu clean"
   ]
  },
  {
   "cell_type": "markdown",
   "metadata": {},
   "source": [
    "## **4. Searching**"
   ]
  },
  {
   "cell_type": "markdown",
   "metadata": {},
   "source": [
    "### **a. Parallel Binary Search**"
   ]
  },
  {
   "cell_type": "code",
   "execution_count": null,
   "metadata": {},
   "outputs": [],
   "source": []
  },
  {
   "cell_type": "markdown",
   "metadata": {},
   "source": [
    "### **b. K-Nearest Neighbors (KNN) Search**"
   ]
  },
  {
   "cell_type": "code",
   "execution_count": null,
   "metadata": {},
   "outputs": [],
   "source": []
  },
  {
   "cell_type": "markdown",
   "metadata": {},
   "source": [
    "## **5. Sorting**"
   ]
  },
  {
   "cell_type": "markdown",
   "metadata": {},
   "source": [
    "### **a. Bitonic Sort**"
   ]
  },
  {
   "cell_type": "code",
   "execution_count": null,
   "metadata": {},
   "outputs": [],
   "source": []
  },
  {
   "cell_type": "markdown",
   "metadata": {},
   "source": [
    "### **b. Radix Sort**"
   ]
  },
  {
   "cell_type": "code",
   "execution_count": null,
   "metadata": {},
   "outputs": [],
   "source": []
  },
  {
   "cell_type": "markdown",
   "metadata": {},
   "source": [
    "## **6. Graph Algorithms**"
   ]
  },
  {
   "cell_type": "markdown",
   "metadata": {},
   "source": [
    "### **a. Breadth First Search (BFS)**"
   ]
  },
  {
   "cell_type": "code",
   "execution_count": null,
   "metadata": {},
   "outputs": [],
   "source": []
  },
  {
   "cell_type": "markdown",
   "metadata": {},
   "source": [
    "### **b. Depth First Search (DFS)**"
   ]
  },
  {
   "cell_type": "code",
   "execution_count": null,
   "metadata": {},
   "outputs": [],
   "source": []
  },
  {
   "cell_type": "markdown",
   "metadata": {},
   "source": [
    "### **c. Dijkstra's Algorithm**"
   ]
  },
  {
   "cell_type": "code",
   "execution_count": null,
   "metadata": {},
   "outputs": [],
   "source": []
  },
  {
   "cell_type": "markdown",
   "metadata": {},
   "source": [
    "### **d. A\\* Algorithm**"
   ]
  },
  {
   "cell_type": "code",
   "execution_count": null,
   "metadata": {},
   "outputs": [],
   "source": []
  },
  {
   "cell_type": "markdown",
   "metadata": {},
   "source": [
    "## **7. Image/Signal Processing**"
   ]
  },
  {
   "cell_type": "markdown",
   "metadata": {},
   "source": [
    "### **a. Image Convolution (Gaussion Blur)**"
   ]
  },
  {
   "cell_type": "code",
   "execution_count": null,
   "metadata": {},
   "outputs": [],
   "source": []
  },
  {
   "cell_type": "markdown",
   "metadata": {},
   "source": [
    "### **b. Fast Fourier Transform (FFT) on a signal**"
   ]
  },
  {
   "cell_type": "code",
   "execution_count": null,
   "metadata": {},
   "outputs": [],
   "source": []
  },
  {
   "cell_type": "markdown",
   "metadata": {},
   "source": [
    "## **8. Statistical Simulation**"
   ]
  },
  {
   "cell_type": "markdown",
   "metadata": {},
   "source": [
    "### **a. Monte Carlo Simulation**"
   ]
  },
  {
   "cell_type": "code",
   "execution_count": null,
   "metadata": {},
   "outputs": [],
   "source": []
  },
  {
   "cell_type": "markdown",
   "metadata": {},
   "source": [
    "## **9. Physics Simulation**"
   ]
  },
  {
   "cell_type": "markdown",
   "metadata": {},
   "source": [
    "### **a. N-Body Simulation**"
   ]
  },
  {
   "cell_type": "code",
   "execution_count": null,
   "metadata": {},
   "outputs": [],
   "source": []
  },
  {
   "cell_type": "markdown",
   "metadata": {},
   "source": [
    "### **b. Navier-Stokes Fluid Simulation**"
   ]
  },
  {
   "cell_type": "code",
   "execution_count": null,
   "metadata": {},
   "outputs": [],
   "source": []
  },
  {
   "cell_type": "markdown",
   "metadata": {},
   "source": [
    "### **c. Heat Diffusion**"
   ]
  },
  {
   "cell_type": "code",
   "execution_count": null,
   "metadata": {},
   "outputs": [],
   "source": []
  }
 ],
 "metadata": {
  "kernelspec": {
   "display_name": "Python 3",
   "language": "python",
   "name": "python3"
  },
  "language_info": {
   "codemirror_mode": {
    "name": "ipython",
    "version": 3
   },
   "file_extension": ".py",
   "mimetype": "text/x-python",
   "name": "python",
   "nbconvert_exporter": "python",
   "pygments_lexer": "ipython3",
   "version": "3.12.3"
  }
 },
 "nbformat": 4,
 "nbformat_minor": 2
}
